{
 "cells": [
  {
   "cell_type": "code",
   "execution_count": 1,
   "metadata": {},
   "outputs": [],
   "source": [
    "#Imports\n",
    "import numpy as np\n",
    "import pandas as pd\n",
    "import matplotlib.pyplot as plt\n",
    "import matplotlib as mpl"
   ]
  },
  {
   "cell_type": "code",
   "execution_count": 2,
   "metadata": {},
   "outputs": [
    {
     "name": "stdout",
     "output_type": "stream",
     "text": [
      "(127, 10)\n",
      "(127, 10)\n",
      "     Age        BMI  Glucose    Insulin      HOMA     Leptin  Adiponectin  \\\n",
      "0     52  26.543128       83   6.156439  1.352861  22.531863     8.832323   \n",
      "1     41  23.527236       74   4.835092  1.013678  15.552154     6.289545   \n",
      "2     40  23.278413       73   4.726075  0.985695  14.976300     6.079755   \n",
      "3     27  19.535749       63   3.086309  0.564775   6.314613     2.924216   \n",
      "4     32  20.839655       66   3.657587  0.711419   9.332254     4.023573   \n",
      "..   ...        ...      ...        ...       ...        ...          ...   \n",
      "122   45  26.850000       92   3.330000  0.755688  54.680000    12.100000   \n",
      "123   62  26.840000      100   4.530000  1.117400  12.450000    21.420000   \n",
      "124   65  32.050000       97   5.730000  1.370998  61.480000    22.540000   \n",
      "125   72  25.590000       82   2.820000  0.570392  24.960000    33.750000   \n",
      "126   86  27.180000      138  19.910000  6.777364  90.280000    14.110000   \n",
      "\n",
      "      Resistin       MCP.1     Status  \n",
      "0    10.084147  416.257761    healthy  \n",
      "1     7.482242  274.366161    healthy  \n",
      "2     7.267574  262.659535    healthy  \n",
      "3     4.038659   86.574756    healthy  \n",
      "4     5.163580  147.920865    healthy  \n",
      "..         ...         ...        ...  \n",
      "122  10.960000  268.230000  cancerous  \n",
      "123   7.320000  330.160000  cancerous  \n",
      "124  10.330000  314.050000  cancerous  \n",
      "125   3.270000  392.460000  cancerous  \n",
      "126   4.350000   90.090000  cancerous  \n",
      "\n",
      "[127 rows x 10 columns]\n",
      "Summary Statistics\n",
      "              Age         BMI     Glucose     Insulin        HOMA      Leptin  \\\n",
      "count  127.000000  127.000000  127.000000  127.000000  127.000000  127.000000   \n",
      "mean    55.850394   27.215728   95.700787    9.557037    2.547656   25.621757   \n",
      "std     16.351826    5.008564   22.696869    9.738491    3.513617   18.705080   \n",
      "min     24.000000   18.370000   60.000000    2.432000    0.467409    4.311000   \n",
      "25%     44.000000   22.876410   84.000000    4.336500    0.898747   12.226100   \n",
      "50%     53.000000   27.100000   92.000000    5.782000    1.341324   19.065300   \n",
      "75%     69.000000   31.066529  101.000000   10.523000    2.628942   34.375600   \n",
      "max     89.000000   38.578759  201.000000   58.460000   25.050342   90.280000   \n",
      "\n",
      "       Adiponectin    Resistin        MCP.1  \n",
      "count   127.000000  127.000000   127.000000  \n",
      "mean      9.831036   14.085466   511.389102  \n",
      "std       6.671655   12.040539   341.194930  \n",
      "min       1.656020    3.210000    45.843000  \n",
      "25%       5.445953    6.780130   263.079267  \n",
      "50%       8.237405   10.344550   426.175000  \n",
      "75%      11.127345   17.181865   662.160500  \n",
      "max      38.040000   82.100000  1698.440000  \n"
     ]
    },
    {
     "data": {
      "text/plain": [
       "Text(0, 0.5, 'Density')"
      ]
     },
     "execution_count": 2,
     "metadata": {},
     "output_type": "execute_result"
    },
    {
     "data": {
      "text/plain": [
       "<Figure size 432x288 with 0 Axes>"
      ]
     },
     "metadata": {},
     "output_type": "display_data"
    },
    {
     "data": {
      "image/png": "[encoded data removed]",
      "text/plain": [
       "<Figure size 432x288 with 1 Axes>"
      ]
     },
     "metadata": {
      "needs_background": "light"
     },
     "output_type": "display_data"
    },
    {
     "data": {
      "text/plain": [
       "<Figure size 432x288 with 0 Axes>"
      ]
     },
     "metadata": {},
     "output_type": "display_data"
    },
    {
     "data": {
      "image/png": "[encoded data removed]",
      "text/plain": [
       "<Figure size 432x288 with 1 Axes>"
      ]
     },
     "metadata": {
      "needs_background": "light"
     },
     "output_type": "display_data"
    }
   ],
   "source": [
    "#Task 1 - Data Loading\n",
    "filename = 'clinical_dataset.xlsx'\n",
    "dataframe = pd.read_excel(filename,header=0)\n",
    "print(dataframe.shape)\n",
    "\n",
    "dataframe.dropna()\n",
    "# There are no missing values, as evidenced by the consistent size\n",
    "print(dataframe.shape)\n",
    "# There are ten features\n",
    "print(dataframe)\n",
    "dataframe['Status']=dataframe['Status'].astype('str')\n",
    "# 1 categorical variable: Status, as it has a finite number of categories (2: either healthy or cancerous) and no intrinsic order\n",
    "print(\"Summary Statistics\")\n",
    "sumstat=dataframe.describe()\n",
    "print(sumstat)\n",
    "sumstat.to_excel('SummaryStatistics.xlsx')\n",
    "\n",
    "\n",
    "# Normalising: setting all inputs to be in the same range\n",
    "\n",
    "# Box Plot of Age and Status\n",
    "plt.figure()\n",
    "boxPlot = dataframe.boxplot(column='Age',by='Status')\n",
    "boxPlot.set_xlabel(\"Status\")\n",
    "boxPlot.set_ylabel(\"Age\")\n",
    "\n",
    "#Density Plot of BMI and Status\n",
    "plt.figure()\n",
    "dataInp = pd.DataFrame({'healthy':dataframe['BMI'].loc[dataframe['Status']=='healthy'],\n",
    "                    'cancerous':dataframe['BMI'].loc[dataframe['Status']=='cancerous']})\n",
    "\n",
    "densPlot=dataInp.plot.kde()\n",
    "densPlot.set_xlabel(\"BMI\")\n",
    "densPlot.set_ylabel(\"Density\")\n"
   ]
  },
  {
   "cell_type": "code",
   "execution_count": 3,
   "metadata": {
    "scrolled": true
   },
   "outputs": [
    {
     "name": "stdout",
     "output_type": "stream",
     "text": [
      "(114, 9)\n",
      "(13, 9)\n"
     ]
    }
   ],
   "source": [
    "from sklearn.model_selection import train_test_split\n",
    "data = dataframe.to_numpy()\n",
    "np.random.shuffle(data)\n",
    "y = data[:,9]\n",
    "x = data[:,0:9]\n",
    "train_x, test_x, train_y, test_y = train_test_split(x, y, test_size=0.1)\n",
    "print(np.shape(train_x))\n",
    "print(np.shape(test_x))"
   ]
  },
  {
   "cell_type": "code",
   "execution_count": 11,
   "metadata": {
    "scrolled": true
   },
   "outputs": [
    {
     "name": "stderr",
     "output_type": "stream",
     "text": [
      "C:\\Users\\David\\anaconda3\\lib\\site-packages\\sklearn\\neural_network\\_multilayer_perceptron.py:582: ConvergenceWarning: Stochastic Optimizer: Maximum iterations (100) reached and the optimization hasn't converged yet.\n",
      "  warnings.warn(\n",
      "C:\\Users\\David\\anaconda3\\lib\\site-packages\\sklearn\\neural_network\\_multilayer_perceptron.py:582: ConvergenceWarning: Stochastic Optimizer: Maximum iterations (200) reached and the optimization hasn't converged yet.\n",
      "  warnings.warn(\n",
      "C:\\Users\\David\\anaconda3\\lib\\site-packages\\sklearn\\neural_network\\_multilayer_perceptron.py:582: ConvergenceWarning: Stochastic Optimizer: Maximum iterations (300) reached and the optimization hasn't converged yet.\n",
      "  warnings.warn(\n"
     ]
    },
    {
     "data": {
      "image/png": "[encoded data removed]",
      "text/plain": [
       "<Figure size 432x288 with 1 Axes>"
      ]
     },
     "metadata": {
      "needs_background": "light"
     },
     "output_type": "display_data"
    }
   ],
   "source": [
    "# Neural Network\n",
    "\n",
    "from sklearn.neural_network import MLPClassifier\n",
    "\n",
    "neuron = 500\n",
    "#iterate = np.array([20, 40, 60, 80, 100, 120, 140, 160, 180, 200, 220, 240, 260, 280, 300])\n",
    "iterate = np.array([100, 200, 300, 400, 500, 600, 700, 800, 900, 1000])\n",
    "activfun = 'logistic'\n",
    "np.set_printoptions(precision=20)\n",
    "result=np.zeros(len(iterate))\n",
    "#Set up artificial neural network using sklearn MLPClassifier\n",
    "point = 0\n",
    "for i in iterate:\n",
    "    net = MLPClassifier(hidden_layer_sizes=[neuron,neuron], # Array of 2, for 2 hidden layers\n",
    "                    activation=activfun, # Set the activation function for the classifier\n",
    "                    max_iter=i, # Set the cut off point, after which no more iterations are made\n",
    "                    n_iter_no_change=10 # Save data by not iterating more than required\n",
    "                   )\n",
    "    \n",
    "    net.fit(train_x, train_y)\n",
    "    scoreNet = net.score(test_x, test_y)\n",
    "    result[point] = scoreNet\n",
    "    point=point+1\n",
    "\n",
    "plt.figure()\n",
    "plt.plot(iterate,result)\n",
    "plt.ylabel('Accuracy')\n",
    "plt.xlabel('Max epochs')\n",
    "plt.show()"
   ]
  },
  {
   "cell_type": "code",
   "execution_count": 12,
   "metadata": {
    "scrolled": true
   },
   "outputs": [
    {
     "name": "stdout",
     "output_type": "stream",
     "text": [
      "0.9230769230769231\n",
      "0.38461538461538464\n",
      "0.8461538461538461\n",
      "0.38461538461538464\n",
      "0.9230769230769231\n",
      "0.38461538461538464\n",
      "0.9230769230769231\n",
      "0.38461538461538464\n",
      "0.9230769230769231\n",
      "0.38461538461538464\n",
      "0.9230769230769231\n",
      "0.38461538461538464\n"
     ]
    }
   ],
   "source": [
    "# Random Forests Classifier\n",
    "from sklearn.ensemble import RandomForestClassifier\n",
    "np.set_printoptions(precision=5)\n",
    "n_trees = np.array([10, 50, 100, 1000, 5000, 10000])\n",
    "ns_leaf = np.array([5, 50])\n",
    "result = np.zeros((6,2))\n",
    "a = 0\n",
    "for i in n_trees:\n",
    "    b = 0\n",
    "    for j in ns_leaf:\n",
    "        tree = RandomForestClassifier(n_estimators=i,\n",
    "                              min_samples_leaf=j)\n",
    "        tree.fit(train_x, train_y)\n",
    "        \n",
    "        scoreTree = tree.score(test_x, test_y)\n",
    "        print(scoreTree)\n",
    "        result[a,b]=scoreTree\n",
    "        b=b+1\n",
    "    a=a+1\n",
    "resultDF=pd.DataFrame(data=result,\n",
    "                   index=n_trees,\n",
    "                   columns=ns_leaf)\n",
    "resultDF.to_excel('results.xlsx')\n"
   ]
  },
  {
   "cell_type": "code",
   "execution_count": 13,
   "metadata": {
    "scrolled": false
   },
   "outputs": [
    {
     "data": {
      "image/png": "[encoded data removed]",
      "text/plain": [
       "<Figure size 432x288 with 1 Axes>"
      ]
     },
     "metadata": {
      "needs_background": "light"
     },
     "output_type": "display_data"
    }
   ],
   "source": [
    "plt.figure()\n",
    "plt.plot(n_trees,result)\n",
    "plt.legend(('5 min samples to leaf','50 min samples to leaf'))\n",
    "plt.ylabel('Accuracy')\n",
    "plt.xlabel('Number of Trees')\n",
    "plt.show()"
   ]
  },
  {
   "cell_type": "code",
   "execution_count": 86,
   "metadata": {},
   "outputs": [],
   "source": [
    "def neuralNet(xTrain,xTest,yTrain,yTest,neurons,net):\n",
    "    a = 0;\n",
    "    output = np.zeros(3)\n",
    "    for i in neurons:\n",
    "        net.hidden_layer_sizes=[i,i]\n",
    "        net.fit(xTrain,yTrain)\n",
    "        output[a]=net.score(xTest,yTest)\n",
    "        a=a+1\n",
    "    return output\n",
    "def classTree(xTrain,xTest,yTrain,yTest,trees,tree):\n",
    "    a = 0;\n",
    "    output = np.zeros(3)\n",
    "    for i in trees:\n",
    "        tree.n_estimators = i\n",
    "        tree.fit(xTrain,yTrain)\n",
    "        output[a]=tree.score(xTest,yTest)\n",
    "        a=a+1\n",
    "    return output"
   ]
  },
  {
   "cell_type": "code",
   "execution_count": 94,
   "metadata": {},
   "outputs": [
    {
     "name": "stderr",
     "output_type": "stream",
     "text": [
      "C:\\Users\\David\\anaconda3\\lib\\site-packages\\sklearn\\neural_network\\_multilayer_perceptron.py:582: ConvergenceWarning: Stochastic Optimizer: Maximum iterations (600) reached and the optimization hasn't converged yet.\n",
      "  warnings.warn(\n",
      "C:\\Users\\David\\anaconda3\\lib\\site-packages\\sklearn\\neural_network\\_multilayer_perceptron.py:582: ConvergenceWarning: Stochastic Optimizer: Maximum iterations (600) reached and the optimization hasn't converged yet.\n",
      "  warnings.warn(\n",
      "C:\\Users\\David\\anaconda3\\lib\\site-packages\\sklearn\\neural_network\\_multilayer_perceptron.py:582: ConvergenceWarning: Stochastic Optimizer: Maximum iterations (600) reached and the optimization hasn't converged yet.\n",
      "  warnings.warn(\n",
      "C:\\Users\\David\\anaconda3\\lib\\site-packages\\sklearn\\neural_network\\_multilayer_perceptron.py:582: ConvergenceWarning: Stochastic Optimizer: Maximum iterations (600) reached and the optimization hasn't converged yet.\n",
      "  warnings.warn(\n",
      "C:\\Users\\David\\anaconda3\\lib\\site-packages\\sklearn\\neural_network\\_multilayer_perceptron.py:582: ConvergenceWarning: Stochastic Optimizer: Maximum iterations (600) reached and the optimization hasn't converged yet.\n",
      "  warnings.warn(\n",
      "C:\\Users\\David\\anaconda3\\lib\\site-packages\\sklearn\\neural_network\\_multilayer_perceptron.py:582: ConvergenceWarning: Stochastic Optimizer: Maximum iterations (600) reached and the optimization hasn't converged yet.\n",
      "  warnings.warn(\n",
      "C:\\Users\\David\\anaconda3\\lib\\site-packages\\sklearn\\neural_network\\_multilayer_perceptron.py:582: ConvergenceWarning: Stochastic Optimizer: Maximum iterations (600) reached and the optimization hasn't converged yet.\n",
      "  warnings.warn(\n"
     ]
    },
    {
     "name": "stdout",
     "output_type": "stream",
     "text": [
      "Complete!\n"
     ]
    }
   ],
   "source": [
    "#KFold Testing\n",
    "from sklearn.model_selection import KFold\n",
    "#Splitting the data into 10 folds\n",
    "nf = KFold(n_splits=10, shuffle=True)\n",
    "\n",
    "split=nf.split(data)\n",
    "\n",
    "\n",
    "a = 1\n",
    "#trees=[10, 20, 30] # Test cases, for quick testing\n",
    "#neurons=[10, 20, 30]\n",
    "trees=[20, 500, 10000] # Actual cases\n",
    "neurons=[50, 500, 1000]\n",
    "net.max_iter = 600\n",
    "tree.min_samples_leaf=5\n",
    "nnres = np.zeros((10,3))\n",
    "ctres = np.zeros((10,3))\n",
    "i = 0\n",
    "for train, test in split:\n",
    "    xTrain = x[train]; xTest=x[test]\n",
    "    yTrain = y[train]; yTest=y[test]\n",
    "    nnres[i,:]=neuralNet(xTrain,xTest,yTrain,yTest,neurons,net)\n",
    "    ctres[i,:]=classTree(xTrain,xTest,yTrain,yTest,trees,tree)\n",
    "    i=i+1\n",
    "    \n",
    "# Averages of k-fold testing\n",
    "netResult=np.zeros(1,3)\n",
    "treeResult = np.zeros(1,3)\n",
    "for i in range(3):\n",
    "    placeholder=nnres[:,i].sum()\n",
    "    netResult[0,i]=placeholder/10\n",
    "    placeholder=ctres[:,i].sum()\n",
    "    treeResult[0,i]=placeholder/10\n",
    "print(\"Complete!\")"
   ]
  },
  {
   "cell_type": "code",
   "execution_count": 95,
   "metadata": {},
   "outputs": [
    {
     "name": "stdout",
     "output_type": "stream",
     "text": [
      "Neural Network raw results: \n",
      " [[0.92308 0.92308 0.69231]\n",
      " [0.69231 0.76923 0.76923]\n",
      " [0.69231 0.84615 0.84615]\n",
      " [0.69231 0.76923 0.69231]\n",
      " [0.84615 0.84615 0.76923]\n",
      " [0.61538 0.69231 0.61538]\n",
      " [1.      0.69231 0.69231]\n",
      " [0.75    0.83333 0.41667]\n",
      " [0.83333 1.      0.33333]\n",
      " [0.33333 0.66667 0.66667]]\n",
      "Classification tree raw results: \n",
      " [[0.92308 0.92308 0.92308]\n",
      " [0.61538 0.61538 0.61538]\n",
      " [1.      0.92308 0.92308]\n",
      " [0.53846 0.69231 0.69231]\n",
      " [0.76923 0.53846 0.53846]\n",
      " [0.69231 0.76923 0.76923]\n",
      " [0.76923 0.84615 0.76923]\n",
      " [0.75    0.75    0.75   ]\n",
      " [0.83333 0.83333 0.91667]\n",
      " [0.91667 0.83333 0.83333]]\n",
      "-------------------------------\n",
      "Neural Network average results:  [0.73782 0.80385 0.64936]\n",
      "Classification tree average results:  [0.78077 0.77244 0.77308]\n"
     ]
    }
   ],
   "source": [
    "print(\"Neural Network raw results: \\n\", nnres)\n",
    "print(\"Classification tree raw results: \\n\", ctres)\n",
    "\n",
    "print(\"-------------------------------\")\n",
    "print(\"Neural Network average results: \", netResult)\n",
    "print(\"Classification tree average results: \", treeResult)"
   ]
  },
  {
   "cell_type": "code",
   "execution_count": 110,
   "metadata": {},
   "outputs": [],
   "source": [
    "## Save data as excel spreadsheet\n",
    "outnn = np.append(nnres,netResult,0)\n",
    "outct = np.append(ctres,treeResult,0)\n",
    "column = np.array([1,2,3,4,5,6,7,8,9,10,'Average'])\n",
    "netfile=pd.DataFrame(data=outnn,\n",
    "                    index=column,\n",
    "                    columns=neurons)\n",
    "treefile=pd.DataFrame(data=outct,\n",
    "                    index=column,\n",
    "                    columns=trees)\n",
    "with pd.ExcelWriter('Training Results.xlsx') as sheet:\n",
    "    netfile.to_excel(sheet, sheet_name='Artificial Neural Network')\n",
    "    treefile.to_excel(sheet, sheet_name='Classification Tree')"
   ]
  },
  {
   "cell_type": "code",
   "execution_count": null,
   "metadata": {},
   "outputs": [],
   "source": []
  },
  {
   "cell_type": "code",
   "execution_count": null,
   "metadata": {},
   "outputs": [],
   "source": []
  }
 ],
 "metadata": {
  "kernelspec": {
   "display_name": "Python 3",
   "language": "python",
   "name": "python3"
  },
  "language_info": {
   "codemirror_mode": {
    "name": "ipython",
    "version": 3
   },
   "file_extension": ".py",
   "mimetype": "text/x-python",
   "name": "python",
   "nbconvert_exporter": "python",
   "pygments_lexer": "ipython3",
   "version": "3.8.3"
  }
 },
 "nbformat": 4,
 "nbformat_minor": 4
}
